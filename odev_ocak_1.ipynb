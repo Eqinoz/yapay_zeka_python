{
 "cells": [
  {
   "cell_type": "code",
   "execution_count": null,
   "id": "39f4dfee-7758-4e5f-b574-2ed25287ab8e",
   "metadata": {},
   "outputs": [],
   "source": [
    "x= input(print(\"İsim:\"))\n",
    "y= input(print(\"Yaşın:\"))\n",
    "z= input(print(\"Doğum Yılı:\")) \n",
    "\n",
    "print(f\"Merhaba {x}! {y} yaşındasın ve {z} yılında doğdun\")"
   ]
  },
  {
   "cell_type": "code",
   "execution_count": null,
   "id": "b67f92d9-2895-438b-adf8-534f84c468c3",
   "metadata": {},
   "outputs": [],
   "source": [
    "x=int(input(print(\"Sayı 1:\")))\n",
    "y=int(input(print(\"Sayı 2:\")))\n",
    "\n",
    "print(x+y, x-y, x/y, x*y)"
   ]
  }
 ],
 "metadata": {
  "kernelspec": {
   "display_name": "env_1",
   "language": "python",
   "name": "python3"
  },
  "language_info": {
   "codemirror_mode": {
    "name": "ipython",
    "version": 3
   },
   "file_extension": ".py",
   "mimetype": "text/x-python",
   "name": "python",
   "nbconvert_exporter": "python",
   "pygments_lexer": "ipython3",
   "version": "3.12.9"
  }
 },
 "nbformat": 4,
 "nbformat_minor": 5
}
