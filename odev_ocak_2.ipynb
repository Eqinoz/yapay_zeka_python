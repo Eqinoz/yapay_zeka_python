{
 "cells": [
  {
   "cell_type": "code",
   "execution_count": null,
   "metadata": {},
   "outputs": [],
   "source": [
    "x=int(input(print(\"Sayı:\")))\n",
    "y = x%2\n",
    "if(y ==0):\n",
    "    print(\"Çift\")\n",
    "else:\n",
    "    print(\"Tek\")"
   ]
  },
  {
   "cell_type": "code",
   "execution_count": null,
   "metadata": {},
   "outputs": [],
   "source": [
    "x=int(input(print(\"Notun:\")))\n",
    "\n",
    "if(x<=100 and x>=90 ):\n",
    "    print(\"Notun Değeri: A\")\n",
    "elif(x<90 and x>=80 ):\n",
    "    print(\"Notun Değeri: B\")\n",
    "elif(x<80 and x>=70 ):\n",
    "    print(\"Notun Değeri: C\")\n",
    "elif(x<70 and x>=60 ):\n",
    "    print(\"Notun Değeri: D\")\n",
    "elif(x<60 and x>=0 ):\n",
    "    print(\"Notun Değeri: F\")"
   ]
  },
  {
   "cell_type": "code",
   "execution_count": null,
   "metadata": {},
   "outputs": [],
   "source": [
    "x=int(input(print(\"Yaş:\")))\n",
    "\n",
    "if( x>=60 ):\n",
    "    print(\"Yaşlı\")\n",
    "elif(x<59 and x>=20 ):\n",
    "    print(\"Yetişkin\")\n",
    "elif(x<20 and x>=13 ):\n",
    "    print(\"Genç\")\n",
    "elif(x<13 and x>=0 ):\n",
    "    print(\"Çocuk\")\n"
   ]
  }
 ],
 "metadata": {
  "kernelspec": {
   "display_name": "env_1",
   "language": "python",
   "name": "python3"
  },
  "language_info": {
   "codemirror_mode": {
    "name": "ipython",
    "version": 3
   },
   "file_extension": ".py",
   "mimetype": "text/x-python",
   "name": "python",
   "nbconvert_exporter": "python",
   "pygments_lexer": "ipython3",
   "version": "3.12.9"
  }
 },
 "nbformat": 4,
 "nbformat_minor": 2
}
