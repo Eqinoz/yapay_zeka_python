{
 "cells": [
  {
   "cell_type": "code",
   "execution_count": null,
   "metadata": {},
   "outputs": [],
   "source": [
    "sayi=[]\n",
    "for i in range(5):\n",
    "    sayi.append(int(input(print(\"Sayı:\"))))\n",
    "\n",
    "print(sayi)\n",
    "print(sum(sayi), (sum(sayi)/len(sayi)),max(sayi), min(sayi))"
   ]
  },
  {
   "cell_type": "code",
   "execution_count": null,
   "metadata": {},
   "outputs": [
    {
     "name": "stdout",
     "output_type": "stream",
     "text": [
      "['ben', 'bir', 'yazılımcıyım']\n"
     ]
    }
   ],
   "source": [
    "cumle = input(\"Tersten Yazılmasını İstediğin Cümleyi Gir:\")\n",
    "kelimeler =cumle.split()\n",
    "ters_kelimeler = kelimeler[::-1]\n",
    "print(ters_kelimeler)"
   ]
  }
 ],
 "metadata": {
  "kernelspec": {
   "display_name": "Python 3",
   "language": "python",
   "name": "python3"
  },
  "language_info": {
   "codemirror_mode": {
    "name": "ipython",
    "version": 3
   },
   "file_extension": ".py",
   "mimetype": "text/x-python",
   "name": "python",
   "nbconvert_exporter": "python",
   "pygments_lexer": "ipython3",
   "version": "3.12.9"
  }
 },
 "nbformat": 4,
 "nbformat_minor": 2
}
